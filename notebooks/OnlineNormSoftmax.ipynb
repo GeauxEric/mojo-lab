{
 "cells": [
  {
   "cell_type": "markdown",
   "metadata": {},
   "source": [
    "# Online normalizer calculation for softmax in Mojo"
   ]
  },
  {
   "cell_type": "markdown",
   "metadata": {},
   "source": [
    "This tutorial is about [online normalizer calculation for softmax](https://arxiv.org/abs/1805.02867). \n",
    "We use Mojo lang to implement two softmax algorithms: safe softmax and safe softmax with online normalizer calculation.\n",
    "\n",
    "\n",
    "We will learn about some interesting aspects of the Mojo lang, such as how to use the move semantics in returning a large value from a function, which is more efficient, how to deepcopy a large value on the heap etc, and how to benchmark algorithms using the built-in `benchmark` package while avoiding some pitfalls."
   ]
  },
  {
   "cell_type": "markdown",
   "metadata": {},
   "source": [
    "## Extend the Matrix struct"
   ]
  },
  {
   "cell_type": "markdown",
   "metadata": {},
   "source": [
    "below is the original matrix struct from [offical Mojo tutorial](https://github.com/modularml/mojo/blob/bf73717d79fbb79b4b2bf586b3a40072308b6184/examples/matmul.mojo#L37) "
   ]
  },
  {
   "cell_type": "code",
   "execution_count": 19,
   "metadata": {},
   "outputs": [],
   "source": [
    "alias type = DType.float32\n",
    "from random import rand\n",
    "\n",
    "struct Matrix[rows: Int, cols: Int]:\n",
    "    var data: DTypePointer[type]\n",
    "\n",
    "    # Initialize zeroeing all values\n",
    "    fn __init__(inout self):\n",
    "        self.data = DTypePointer[type].alloc(rows * cols)\n",
    "        memset_zero(self.data, rows * cols)\n",
    "\n",
    "    # Initialize taking a pointer, don't set any elements\n",
    "    fn __init__(inout self, data: DTypePointer[type]):\n",
    "        self.data = data\n",
    "\n",
    "    ## Initialize with random values\n",
    "    @staticmethod\n",
    "    fn rand() -> Self:\n",
    "        var data = DTypePointer[type].alloc(rows * cols)\n",
    "        rand(data, rows * cols)\n",
    "        return Self(data)\n",
    "\n",
    "    fn __getitem__(self, y: Int, x: Int) -> Scalar[type]:\n",
    "        return self.load[1](y, x)\n",
    "\n",
    "    fn __setitem__(inout self, y: Int, x: Int, val: Scalar[type]):\n",
    "        self.store[1](y, x, val)\n",
    "\n",
    "    fn load[nelts: Int](self, y: Int, x: Int) -> SIMD[type, nelts]:\n",
    "        return self.data.load[width=nelts](y * self.cols + x)\n",
    "\n",
    "    fn store[nelts: Int](self, y: Int, x: Int, val: SIMD[type, nelts]):\n",
    "        return self.data.store[width=nelts](y * self.cols + x, val)"
   ]
  },
  {
   "cell_type": "markdown",
   "metadata": {},
   "source": [
    "There are a few inconvenient things:\n",
    "\n",
    "\n",
    "First of all, user needs to [explicitly release the resources](https://github.com/modularml/mojo/blob/bf73717d79fbb79b4b2bf586b3a40072308b6184/examples/matmul.mojo#L201) allocated on the heap, e.g.\n",
    "```\n",
    "A.data.free()\n",
    "B.data.free()\n",
    "C.data.free()\n",
    "```\n",
    "\n",
    "Secondly, cannot initialize from another `Matrix`, i.e. lacking in `Copy constructor`\n",
    "\n"
   ]
  },
  {
   "cell_type": "code",
   "execution_count": 20,
   "metadata": {},
   "outputs": [
    {
     "name": "stdout",
     "output_type": "stream",
     "text": [
      "error: \u001b[0;1;31m\u001b[1mExpression [20]:2:10: \u001b[0m\u001b[1m'Matrix[1, 1]' is not copyable because it has no '__copyinit__'\n",
      "\u001b[0mvar m1 = m0;\n",
      "\u001b[0;1;32m         ^~\n",
      "\u001b[0m\u001b[0m"
     ]
    },
    {
     "name": "stderr",
     "output_type": "stream",
     "text": [
      "expression failed to parse (no further compiler diagnostics)"
     ]
    }
   ],
   "source": [
    "var m0 = Matrix[1,1].rand()\n",
    "var m1 = m0;"
   ]
  },
  {
   "cell_type": "markdown",
   "metadata": {},
   "source": [
    "Thirdly, cannot initialize using `move` semantics, i.e. lacking in `Move constructor`."
   ]
  },
  {
   "cell_type": "code",
   "execution_count": 21,
   "metadata": {},
   "outputs": [
    {
     "name": "stdout",
     "output_type": "stream",
     "text": [
      "error: \u001b[0;1;31m\u001b[1mExpression [21]:2:12: \u001b[0m\u001b[1m'Matrix[1, 1]' is not copyable or movable because it has no '__copyinit__' or '__moveinit__' member\n",
      "\u001b[0mvar m1 = m0^\n",
      "\u001b[0;1;32m           ^\n",
      "\u001b[0m\u001b[0m"
     ]
    },
    {
     "name": "stderr",
     "output_type": "stream",
     "text": [
      "expression failed to parse (no further compiler diagnostics)"
     ]
    }
   ],
   "source": [
    "var m0 = Matrix[1,1].rand()\n",
    "var m1 = m0^"
   ]
  },
  {
   "cell_type": "markdown",
   "metadata": {},
   "source": [
    "Let's address these issues one by one.\n",
    "\n",
    "First of all, let's be `RAII` by implementing the `__del__` method.\n",
    "Note that the `self` parameter of the `__del__` method must be `owned`.\n",
    "\n",
    "Let's also implement the `__copyinit__` and `__moveinit__` methods."
   ]
  },
  {
   "cell_type": "code",
   "execution_count": 22,
   "metadata": {},
   "outputs": [],
   "source": [
    "alias type = DType.float32\n",
    "from random import rand\n",
    "\n",
    "\n",
    "struct Matrix[rows: Int, cols: Int]:\n",
    "    var data: DTypePointer[type]\n",
    "\n",
    "    # Initialize zeroeing all values\n",
    "    fn __init__(inout self):\n",
    "        self.data = DTypePointer[type].alloc(rows * cols)\n",
    "        memset_zero(self.data, rows * cols)\n",
    "\n",
    "    # Initialize taking a pointer, don't set any elements\n",
    "    fn __init__(inout self, data: DTypePointer[type]):\n",
    "        self.data = data\n",
    "\n",
    "    fn __copyinit__(inout self, existing: Self):\n",
    "        var n = rows * cols\n",
    "        self.data = DTypePointer[type].alloc(n)\n",
    "        memcpy[rows * cols](self.data, existing.data)\n",
    "\n",
    "    #fn __moveinit__(inout self, owned existing: Self):\n",
    "        # self.data = existing.data\n",
    "        # destructor of `existing` is disabled,\n",
    "        # don't worry the resource is released twice\n",
    "\n",
    "    fn __del__(owned self):\n",
    "        self.data.free()\n",
    "\n",
    "    ## Initialize with random values\n",
    "    @staticmethod\n",
    "    fn rand() -> Self:\n",
    "        var data = DTypePointer[type].alloc(rows * cols)\n",
    "        rand(data, rows * cols)\n",
    "        return Self(data)\n",
    "\n",
    "    fn __getitem__(self, y: Int, x: Int) -> Scalar[type]:\n",
    "        return self.load[1](y, x)\n",
    "\n",
    "    fn __setitem__(inout self, y: Int, x: Int, val: Scalar[type]):\n",
    "        self.store[1](y, x, val)\n",
    "\n",
    "    fn load[nelts: Int](self, y: Int, x: Int) -> SIMD[type, nelts]:\n",
    "        return self.data.load[width=nelts](y * self.cols + x)\n",
    "\n",
    "    fn store[nelts: Int](self, y: Int, x: Int, val: SIMD[type, nelts]):\n",
    "        return self.data.store[width=nelts](y * self.cols + x, val)\n"
   ]
  },
  {
   "cell_type": "code",
   "execution_count": 23,
   "metadata": {},
   "outputs": [
    {
     "name": "stdout",
     "output_type": "stream",
     "text": [
      "0.67886471748352051 = 0.67886471748352051\n"
     ]
    }
   ],
   "source": [
    "var m0 = Matrix[1,1].rand()\n",
    "var m1 = m0\n",
    "print(m0[0, 0], \"=\", m1[0, 0])"
   ]
  },
  {
   "cell_type": "markdown",
   "metadata": {},
   "source": [
    "also seem to found a bug with running mojo code in notebook...\n",
    "\n",
    "execute the code below from command line is totally fine.\n",
    "\n",
    "let's move on"
   ]
  },
  {
   "cell_type": "code",
   "execution_count": 24,
   "metadata": {},
   "outputs": [
    {
     "name": "stdout",
     "output_type": "stream",
     "text": [
      "error: \u001b[0;1;31m\u001b[1mExpression [24] wrapper:16:7: \u001b[0m\u001b[1m'm2' is uninitialized at the implicit return from this function\n",
      "\u001b[0m  def __mojo_repl_expr_body__() -> None:\n",
      "\u001b[0;1;32m      ^\n",
      "\u001b[0m\u001b[0m"
     ]
    },
    {
     "name": "stderr",
     "output_type": "stream",
     "text": [
      "\u001b[0;1;30m\u001b[1mExpression [24]:1:1: \u001b[0m\u001b[1m'm2' declared here\n",
      "\u001b[0mvar m2 = Matrix[1,1].rand()\n",
      "\u001b[0;1;32m^\n",
      "\u001b[0m\u001b[0m\n",
      "expression failed to parse (no further compiler diagnostics)"
     ]
    }
   ],
   "source": [
    "var m2 = Matrix[1,1].rand()\n",
    "var m3 = m2^"
   ]
  },
  {
   "cell_type": "code",
   "execution_count": null,
   "metadata": {},
   "outputs": [],
   "source": [
    "import benchmark\n",
    "from memory import memset_zero\n",
    "from random import rand"
   ]
  },
  {
   "cell_type": "code",
   "execution_count": null,
   "metadata": {},
   "outputs": [],
   "source": [
    "alias type = DType.float32\n",
    "\n",
    "struct Matrix[rows: Int, cols: Int]:\n",
    "    var data: DTypePointer[type]\n",
    "\n",
    "    # Initialize zeroeing all values\n",
    "    fn __init__(inout self):\n",
    "        self.data = DTypePointer[type].alloc(rows * cols)\n",
    "        memset_zero(self.data, rows * cols)\n",
    "\n",
    "    # Initialize taking a pointer, don't set any elements\n",
    "    fn __init__(inout self, data: DTypePointer[type]):\n",
    "        self.data = data\n",
    "\n",
    "    # Initialize with random values\n",
    "    @staticmethod\n",
    "    fn rand() -> Self:\n",
    "        var data = DTypePointer[type].alloc(rows * cols)\n",
    "        rand(data, rows * cols)\n",
    "        return Self(data)\n",
    "\n",
    "    fn __getitem__(self, y: Int, x: Int) -> Scalar[type]:\n",
    "        return self.load[1](y, x)\n",
    "\n",
    "    fn __setitem__(self, y: Int, x: Int, val: Scalar[type]):\n",
    "        self.store[1](y, x, val)\n",
    "\n",
    "    fn load[nelts: Int](self, y: Int, x: Int) -> SIMD[type, nelts]:\n",
    "        return self.data.load[width=nelts](y * self.cols + x)\n",
    "\n",
    "    fn store[nelts: Int](self, y: Int, x: Int, val: SIMD[type, nelts]):\n",
    "        return self.data.store[width=nelts](y * self.cols + x, val)\n",
    "    fn __del__(owned self):\n",
    "        self.data.free()\n",
    "    fn __copyinit__(inout self, existing: Self):\n",
    "        self.data = DTypePointer[type].alloc(rows * cols)\n",
    "        memcpy[rows * cols](self.data, existing.data)\n"
   ]
  },
  {
   "cell_type": "code",
   "execution_count": null,
   "metadata": {},
   "outputs": [],
   "source": [
    "import math"
   ]
  },
  {
   "cell_type": "code",
   "execution_count": null,
   "metadata": {},
   "outputs": [],
   "source": [
    "\n",
    "struct Column[nelts: Int]:\n",
    "    alias Col = Matrix[nelts, 1]\n",
    "    var elements: Self.Col\n",
    "    fn __init__(inout self):\n",
    "        self.elements.__init__()\n",
    "    fn __init__(inout self, matrix: Matrix[nelts, 1]):\n",
    "        self.elements = matrix\n",
    "    @staticmethod\n",
    "    fn rand() -> Self:\n",
    "        return Self.Col.rand()\n",
    "    fn __getitem__(self, i: Int) -> Scalar[type]:\n",
    "        return self.elements[i, 0]\n",
    "    fn __setitem__(inout self, i: Int, val: Scalar[type]):\n",
    "        self.elements[i, 0] = val\n",
    "    fn __copyinit__(inout self, existing: Self):\n",
    "        self.elements = existing.elements\n",
    "    fn softmax_unroll(self) -> Self:\n",
    "        var x_max: Scalar[type]  = math.limit.neginf[type]()\n",
    "        @unroll(20)\n",
    "        for i in range(nelts):\n",
    "            var x = self[i]\n",
    "            if x > x_max:\n",
    "                x_max = x\n",
    "        var d: Scalar[type] = 0\n",
    "        @unroll(20)\n",
    "        for i in range(nelts):\n",
    "            var x = self[i]\n",
    "            d += math.exp(x - x_max)\n",
    "        var probs = Self()\n",
    "        @unroll(20)\n",
    "        for i in range(nelts):\n",
    "            var x = self[i]\n",
    "            probs[i] = math.exp(x - x_max) / d\n",
    "        return probs\n",
    "    fn softmax(self) -> Self:\n",
    "        var x_max: Scalar[type]  = math.limit.neginf[type]()\n",
    "        for i in range(nelts):\n",
    "            var x = self[i]\n",
    "            if x > x_max:\n",
    "                x_max = x\n",
    "        var d: Scalar[type] = 0\n",
    "        for i in range(nelts):\n",
    "            var x = self[i]\n",
    "            d += math.exp(x - x_max)\n",
    "        var probs = Self()\n",
    "        for i in range(nelts):\n",
    "            var x = self[i]\n",
    "            probs[i] = math.exp(x - x_max) / d\n",
    "        return probs\n",
    "    fn softmax_online(self) -> Self:\n",
    "        var m = math.limit.neginf[type]()\n",
    "        var d: Scalar[type] = 0\n",
    "        for i in range(nelts):\n",
    "            var x = self[i]\n",
    "            var m_prev = m\n",
    "            if x > m:\n",
    "                m = x\n",
    "            d = d * math.exp(m_prev - m) + math.exp(x - m)\n",
    "        var probs = Self()\n",
    "        for i in range(nelts):\n",
    "            var x = self[i]\n",
    "            probs[i] = math.exp(x - m) / d\n",
    "        return probs\n",
    "    fn __eq__(self, other: Self) -> Bool:\n",
    "        for i in range(nelts):\n",
    "            if self[i] != other[i]:\n",
    "                return False\n",
    "        return True\n",
    "\n"
   ]
  },
  {
   "cell_type": "code",
   "execution_count": null,
   "metadata": {},
   "outputs": [
    {
     "name": "stdout",
     "output_type": "stream",
     "text": [
      "logits 0.1315377950668335 0.458650141954422 0.21895918250083923 0.67886471748352051\n",
      "probabilities\t 0.076156176626682281 0.10562536865472794 0.083113528788089752 0.1316455602645874\n",
      "expected sum=1 actual= 1.0\n",
      "False\n",
      "True\n"
     ]
    }
   ],
   "source": [
    "var logits = Column[10].rand()\n",
    "print(\"logits\", logits[0], logits[1], logits[2], logits[3])\n",
    "var probs = logits.softmax()\n",
    "print(\"probabilities\\t\", probs[0], probs[1], probs[2], probs[3])\n",
    "var probs_online = logits.softmax_online()\n",
    "var probs_unrolled = logits.softmax_unroll()\n",
    "var s: Scalar[type] = 0.0\n",
    "for i in range(10):\n",
    "    s += probs[i]\n",
    "print(\"expected sum=1\", \"actual=\", s)\n",
    "print(probs == probs_online)\n",
    "print(probs == probs_unrolled)"
   ]
  },
  {
   "cell_type": "code",
   "execution_count": null,
   "metadata": {},
   "outputs": [],
   "source": [
    "from benchmark import Unit\n",
    "from benchmark.compiler import keep\n",
    "alias nelts = 10000000\n",
    "fn bench[func: fn (Column[nelts]) -> None, name: StringLiteral]():\n",
    "    var logits = Column[nelts].rand()\n",
    "    @always_inline\n",
    "    @parameter\n",
    "    fn test_fn():\n",
    "        var probs = func(logits)\n",
    "        keep(probs)\n",
    "\n",
    "    var report = benchmark.run[test_fn]()\n",
    "    report.print(Unit.ms)"
   ]
  },
  {
   "cell_type": "code",
   "execution_count": null,
   "metadata": {},
   "outputs": [
    {
     "name": "stdout",
     "output_type": "stream",
     "text": [
      "naive\n",
      "---------------------\n",
      "Benchmark Report (ms)\n",
      "---------------------\n",
      "Mean: 101.07316920833334\n",
      "Total: 2425.756061\n",
      "Iters: 24\n",
      "Warmup Mean: 97.554480999999996\n",
      "Warmup Total: 195.10896199999999\n",
      "Warmup Iters: 2\n",
      "Fastest Mean: 101.07316920833333\n",
      "Slowest Mean: 101.07316920833333\n",
      "\n",
      "naive unrolled\n",
      "---------------------\n",
      "Benchmark Report (ms)\n",
      "---------------------\n",
      "Mean: 95.434057639999992\n",
      "Total: 2385.8514409999998\n",
      "Iters: 25\n",
      "Warmup Mean: 92.094906499999993\n",
      "Warmup Total: 184.18981299999999\n",
      "Warmup Iters: 2\n",
      "Fastest Mean: 95.434057640000006\n",
      "Slowest Mean: 95.434057640000006\n",
      "\n",
      "online normalization\n",
      "---------------------\n",
      "Benchmark Report (ms)\n",
      "---------------------\n",
      "Mean: 124.00298378947369\n",
      "Total: 2356.0566920000001\n",
      "Iters: 19\n",
      "Warmup Mean: 124.7894295\n",
      "Warmup Total: 249.57885899999999\n",
      "Warmup Iters: 2\n",
      "Fastest Mean: 1.7976931348623157e+308\n",
      "Slowest Mean: 124.00298378947369\n",
      "\n"
     ]
    }
   ],
   "source": [
    "fn naive(logits: Column[nelts]):\n",
    "    var probs = logits.softmax()\n",
    "    keep(probs)\n",
    "fn naive_unrolled(logits: Column[nelts]):\n",
    "    var probs = logits.softmax_unroll()\n",
    "    keep(probs)\n",
    "fn online(logits: Column[nelts]):\n",
    "    var probs = logits.softmax_online()\n",
    "    keep(probs)\n",
    "print(\"naive\")\n",
    "bench[naive, \"naive\"]()\n",
    "print(\"naive unrolled\")\n",
    "bench[naive_unrolled, \"naive unrolled\"]()\n",
    "print(\"online normalization\")\n",
    "bench[online, \"online normalization\"]()"
   ]
  },
  {
   "cell_type": "code",
   "execution_count": null,
   "metadata": {},
   "outputs": [],
   "source": []
  }
 ],
 "metadata": {
  "kernelspec": {
   "display_name": "Mojo",
   "language": "mojo",
   "name": "mojo-jupyter-kernel"
  },
  "language_info": {
   "codemirror_mode": {
    "name": "mojo"
   },
   "file_extension": ".mojo",
   "mimetype": "text/x-mojo",
   "name": "mojo"
  }
 },
 "nbformat": 4,
 "nbformat_minor": 2
}
